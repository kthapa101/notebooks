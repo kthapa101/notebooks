{
 "cells": [
  {
   "cell_type": "markdown",
   "metadata": {},
   "source": [
    "# Storing Data\n",
    "\n",
    "As we’ve seen, a **variable** is a location where we can store data in a program. We can create and use as many variables as we want."
   ]
  },
  {
   "cell_type": "code",
   "execution_count": 10,
   "metadata": {},
   "outputs": [
    {
     "name": "stdout",
     "output_type": "stream",
     "text": [
      "kapil\n"
     ]
    }
   ],
   "source": [
    "name = \"kapil\"\n",
    "age_years = 25\n",
    "birth_year = 1999\n",
    "birth_month = 6\n",
    "birth_day = 24\n",
    "height_meters = 1\n",
    "\n",
    "print(name)"
   ]
  },
  {
   "cell_type": "markdown",
   "metadata": {},
   "source": [
    "Each of the above instructions is a variable assignment. The value of the right is being assigned into the variable on the left. The `=` operator is our **assignment operator**. There is a different operator for equality.\n",
    "\n",
    "You will have noticed that we can store different types of data. Above, we are storing text, integers, and floating point numbers. There are also other types of data. You will see that we can store collections of data, such as lists and dictionaries, and other types of objects in individual variables also.\n",
    "\n",
    "Different types of data allow us to perform different operations on them.\n"
   ]
  },
  {
   "cell_type": "markdown",
   "metadata": {},
   "source": [
    "## Numeric Data Types\n",
    "\n",
    "We can perform standard mathematical operations on numeric data: addition, subtraction, multiplication, exponentiation, division, and remainder.\n",
    "\n",
    "| Operation      | Operator |\n",
    "|----------------|----------|\n",
    "| addition       | `+`      |\n",
    "| subtraction    | `-`      |\n",
    "| multiplication | `*`      |\n",
    "| exponentiation | `**`     |\n",
    "| division       | `/`      |\n",
    "| floor division | `//`     |\n",
    "| remainder      | `%`      |\n",
    "\n",
    "The first four are conveniently simple. They operate as expected. See below for examples."
   ]
  },
  {
   "cell_type": "code",
   "execution_count": 11,
   "metadata": {},
   "outputs": [
    {
     "name": "stdout",
     "output_type": "stream",
     "text": [
      "24\n"
     ]
    }
   ],
   "source": [
    "num1 = 11\n",
    "num2 = 13\n",
    "\n",
    "sum = num1 + num2\n",
    "\n",
    "print(sum)"
   ]
  },
  {
   "cell_type": "code",
   "execution_count": 12,
   "metadata": {},
   "outputs": [
    {
     "name": "stdout",
     "output_type": "stream",
     "text": [
      "143\n"
     ]
    }
   ],
   "source": [
    "num1 = 11\n",
    "num2 = 13\n",
    "\n",
    "product = num1 * num2\n",
    "print(product)"
   ]
  },
  {
   "cell_type": "code",
   "execution_count": 13,
   "metadata": {},
   "outputs": [
    {
     "name": "stdout",
     "output_type": "stream",
     "text": [
      "2\n"
     ]
    }
   ],
   "source": [
    "num1 = 11\n",
    "num2 = 13\n",
    "\n",
    "difference = num2 - num1\n",
    "print(difference)"
   ]
  },
  {
   "cell_type": "code",
   "execution_count": 14,
   "metadata": {},
   "outputs": [
    {
     "name": "stdout",
     "output_type": "stream",
     "text": [
      "34522712143931\n"
     ]
    }
   ],
   "source": [
    "num1 = 11\n",
    "num2 = 13\n",
    "\n",
    "power = num1**num2\n",
    "print(power)"
   ]
  },
  {
   "cell_type": "markdown",
   "metadata": {},
   "source": [
    "I encourage you to play with the above operations yourself."
   ]
  },
  {
   "cell_type": "markdown",
   "metadata": {},
   "source": [
    "### Division and Remainder\n",
    "\n",
    "While the above operations are boringly simple, division, however, is interesting. The first thing to note is that, fundamentally, in a computer, operations can be performed on two pieces of data that are of the same type, and a piece of data of the same type will be returned.\n",
    "\n",
    "For example, adding two integers (`int` for short) will return an `int`. \n",
    "\n",
    "The same is true with division. One `int` divided by another will result in an `int`.\n",
    "\n",
    "So then, how does a computer evaluate `3/2`? We know this is $1.5$. Based on the way numbers are stored and processed in a computer, **integer division** would truncate the answer. Instead of returning $1.5$, if python performed integer division, `3/2` would return `1`. `29/10` would result in `2` rather than $2.9$.\n",
    "\n",
    "In historical and many modern languages, this is how division is handled. If both operands of division are integers, the result will be an `int`.\n",
    "\n",
    "Python provides two division operators: `/` and `//`. \n",
    "- `//` performs integer division using truncation. It is known as *floor division*. \n",
    "- `/` will return a floating point number, matching our normal expectations.\n",
    "\n",
    "Remainders can also be calculated. The **modulus operator**, `%`, is used.\n"
   ]
  },
  {
   "cell_type": "code",
   "execution_count": 15,
   "metadata": {},
   "outputs": [
    {
     "name": "stdout",
     "output_type": "stream",
     "text": [
      "29 / 10 is 2 with a remainder of 9\n"
     ]
    }
   ],
   "source": [
    "truncated = 29 // 10 # evaluates to 2\n",
    "decimal = 29 / 10 # evaluates to 2.9\n",
    "remainder = 29 % 10 # evaluates to 9, the remainder of 29/10\n",
    "print(\"29 / 10 is \"+str(truncated)+\" with a remainder of \"+ str(remainder))\n"
   ]
  },
  {
   "cell_type": "markdown",
   "metadata": {},
   "source": [
    "In the above, our print statement is getting complicated. As stated above, operations can only be applied to data of the same type. In the print statement, we are “adding” strings together. This is known as **string concatenation**. \n",
    "\n",
    "Since our variables hold numbers, we must convert them to strings before concatenating them together a final output message."
   ]
  },
  {
   "cell_type": "markdown",
   "metadata": {},
   "source": [
    "### Building more complicated expressions\n",
    "\n",
    "We can chain together multiple operations into a single expression. When doing so, the operations will be evaluated using the standard order of operations. Parentheses can be used to enforce an order or operations\n",
    "\n",
    "**Tip**: For clarity, and to avoid bugs, it helps to use parentheses to be explicit about the order of evaluation.\n"
   ]
  },
  {
   "cell_type": "code",
   "execution_count": 16,
   "metadata": {},
   "outputs": [
    {
     "name": "stdout",
     "output_type": "stream",
     "text": [
      "92 F is 33.333333333333336 C\n"
     ]
    }
   ],
   "source": [
    "temperature_f = 92\n",
    "temperature_c = (temperature_f - 32) * 5 / 9\n",
    "\n",
    "print(str(temperature_f)+\" F is \"+str(temperature_c) +\" C\")"
   ]
  },
  {
   "cell_type": "markdown",
   "metadata": {},
   "source": [
    "### Practice\n",
    "\n",
    "Above is a small program to convert a temperature from Farenheit to Celsius. \n",
    "\n",
    "Below, implement a program to convert from **Celsius** to **Farenheit**. It should ask the user to input a temperature in Celsius, convert it to Farenheit, and output the converted value. \n",
    "\n",
    "Allow the user to input the temperature as a decimal or \"floating point number\". \n",
    "\n",
    "The data type in python that stores floating point numbers is a `float`. You will have to lookup how to convert from a `string` to a `float`. Google (or one's search engine of choice) is a great resource to look up (or recall) how to do this sort of thing."
   ]
  },
  {
   "cell_type": "code",
   "execution_count": 19,
   "metadata": {},
   "outputs": [
    {
     "name": "stdout",
     "output_type": "stream",
     "text": [
      "37C is 98.6 F\n"
     ]
    }
   ],
   "source": [
    "# Ask the user for a temperature in Celsius\n",
    "temperature_c = 37\n",
    "\n",
    "\n",
    "# Convert it to Farenheit\n",
    "temperature_f = (temperature_c * 9/5) + 32\n",
    "\n",
    "# Output the answer\n",
    "print(str(temperature_c)+\"C is \"+str(temperature_f)+\" F\")\n"
   ]
  }
 ],
 "metadata": {
  "kernelspec": {
   "display_name": "Python 3.9.6 64-bit",
   "language": "python",
   "name": "python3"
  },
  "language_info": {
   "codemirror_mode": {
    "name": "ipython",
    "version": 3
   },
   "file_extension": ".py",
   "mimetype": "text/x-python",
   "name": "python",
   "nbconvert_exporter": "python",
   "pygments_lexer": "ipython3",
   "version": "3.11.4"
  },
  "orig_nbformat": 4,
  "vscode": {
   "interpreter": {
    "hash": "aee8b7b246df8f9039afb4144a1f6fd8d2ca17a180786b69acc140d282b71a49"
   }
  }
 },
 "nbformat": 4,
 "nbformat_minor": 2
}
