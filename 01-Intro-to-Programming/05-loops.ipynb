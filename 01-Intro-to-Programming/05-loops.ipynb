{
 "cells": [
  {
   "cell_type": "markdown",
   "metadata": {},
   "source": [
    "# Loops\n",
    "\n",
    "Automating repetitive tasks is fundamentally useful in computing.\n",
    "\n",
    "There are two types of loops we can use in python:\n",
    "\n",
    "- while loops\n",
    "- for loops\n",
    "\n",
    "## While Loops, Conditional Iteration\n",
    "\n",
    "While loops are used to implement **conditional iteration**, a set of instructions that repeats as long as some condition is `True`.\n",
    "\n",
    "The syntax is as follows:\n",
    "\n",
    "```python\n",
    "while conditional_statement:\n",
    "    # instruction 1\n",
    "    # instruction 2\n",
    "    # instruction 3\n",
    "    # ...\n",
    "# instructions to execute after loop completes \n",
    "```"
   ]
  },
  {
   "cell_type": "markdown",
   "metadata": {},
   "source": [
    "The conditional statement is any expression that evaluates to `True` or `False`.\n",
    "\n",
    "At some point, the condition should eventually evaluate to `False`, otherwise the loop will never quit."
   ]
  },
  {
   "cell_type": "code",
   "execution_count": 13,
   "metadata": {},
   "outputs": [
    {
     "name": "stdout",
     "output_type": "stream",
     "text": [
      "0 is a multiple of 17.\n",
      "17 is a multiple of 17.\n",
      "34 is a multiple of 17.\n",
      "51 is a multiple of 17.\n",
      "68 is a multiple of 17.\n",
      "85 is a multiple of 17.\n"
     ]
    }
   ],
   "source": [
    "num = 0\n",
    "increment = 17\n",
    "while num < 100:\n",
    "    print(\"{} is a multiple of {}.\".format(num, increment))\n",
    "    num = num + increment"
   ]
  },
  {
   "cell_type": "markdown",
   "metadata": {},
   "source": [
    "\n",
    "While loops are useful in a general sense, but a common use case is to validate user input.\n",
    "\n",
    "For example:"
   ]
  },
  {
   "cell_type": "code",
   "execution_count": 54,
   "metadata": {},
   "outputs": [
    {
     "name": "stdout",
     "output_type": "stream",
     "text": [
      "6 isn't odd! Try again.\n"
     ]
    },
    {
     "ename": "ValueError",
     "evalue": "invalid literal for int() with base 10: ''",
     "output_type": "error",
     "traceback": [
      "\u001b[0;31m---------------------------------------------------------------------------\u001b[0m",
      "\u001b[0;31mValueError\u001b[0m                                Traceback (most recent call last)",
      "Cell \u001b[0;32mIn[54], line 2\u001b[0m\n\u001b[1;32m      1\u001b[0m \u001b[38;5;28;01mwhile\u001b[39;00m \u001b[38;5;28;01mTrue\u001b[39;00m:\n\u001b[0;32m----> 2\u001b[0m     num \u001b[38;5;241m=\u001b[39m \u001b[38;5;28;43mint\u001b[39;49m\u001b[43m(\u001b[49m\u001b[38;5;28;43minput\u001b[39;49m\u001b[43m(\u001b[49m\u001b[38;5;124;43m\"\u001b[39;49m\u001b[38;5;124;43mEnter an odd number: \u001b[39;49m\u001b[38;5;124;43m\"\u001b[39;49m\u001b[43m)\u001b[49m\u001b[43m)\u001b[49m\n\u001b[1;32m      3\u001b[0m     \u001b[38;5;28;01mif\u001b[39;00m num \u001b[38;5;241m%\u001b[39m \u001b[38;5;241m2\u001b[39m \u001b[38;5;241m==\u001b[39m \u001b[38;5;241m1\u001b[39m:\n\u001b[1;32m      4\u001b[0m         \u001b[38;5;28mprint\u001b[39m(\u001b[38;5;124m\"\u001b[39m\u001b[38;5;124mYes! \u001b[39m\u001b[38;5;132;01m{}\u001b[39;00m\u001b[38;5;124m is an odd number.\u001b[39m\u001b[38;5;124m\"\u001b[39m\u001b[38;5;241m.\u001b[39mformat(num))\n",
      "\u001b[0;31mValueError\u001b[0m: invalid literal for int() with base 10: ''"
     ]
    }
   ],
   "source": [
    "while True:\n",
    "    num = int(input(\"Enter an odd number: \"))\n",
    "    if num % 2 == 1:\n",
    "        print(\"Yes! {} is an odd number.\".format(num))\n",
    "        break # quit the loop\n",
    "    else:\n",
    "        print(\"{} isn't odd! Try again.\".format(num))\n"
   ]
  },
  {
   "cell_type": "markdown",
   "metadata": {},
   "source": [
    "### `break` and `continue`\n",
    "\n",
    "Here we have used a `break` statement. A `break` statement will \"break out\" of the current loop when executed. In other words, a `break` statement quits the loop.\n",
    "\n",
    "There is also a `continue` statement. A `continue` statement skips the rest of the instructions in the current iteration and moves on to the next.\n",
    "\n",
    "For example:"
   ]
  },
  {
   "cell_type": "code",
   "execution_count": 25,
   "metadata": {},
   "outputs": [],
   "source": [
    "# What will be output by the following?\n",
    "i = 3\n",
    "while i < 10: \n",
    "    i += 1 #runs this first\n",
    "    if i % 2 == 0: #then checks this\n",
    "        continue   # if true prints and continues.\n",
    "    print(i)\n",
    "# what above line of code is doing is that the given value of i is 2. It will then add 1 which is 3. 3 is not divisible by 2 so it will continue adding 1. Next 1 will be added to 3 to make it 4, which is divisible by 2. Thus now the value of i is 3. It keeps doing it until 10."
   ]
  },
  {
   "cell_type": "markdown",
   "metadata": {},
   "source": [
    "### Nested Structures\n",
    "\n",
    "Noteote that it is perfectly fine to nest `if-else` statements within loops. We could also nest loops within themselves or `if-else` statements within themselves if we need or want to.\n",
    "\n",
    "A nested structure will always be indented one level further than the outer structure."
   ]
  },
  {
   "cell_type": "markdown",
   "metadata": {},
   "source": [
    "## For Loops, Counting Iteration\n",
    "\n",
    "While loops are great if we don't know how many times a loop will need to execute.\n",
    "\n",
    "If we know how many times we need a set of instructions to execute, we can use a `for` loop to execute them exactly that many times.\n",
    "\n",
    "The basic syntax is:\n",
    "\n",
    "```python\n",
    "num_iterations = 10\n",
    "\n",
    "for i in range(num_iterations):\n",
    "    # instructions to execute \n",
    "```"
   ]
  },
  {
   "cell_type": "markdown",
   "metadata": {},
   "source": [
    "The `range()` function returns a range of numbers that a loop can execute over where the basic usage is to pass in the number of times the loop will execute.\n",
    "\n",
    "For example, `range(5)` will cause the loop to execute its instructions 5 times.\n",
    "\n",
    "The `i` variable will hold the current iteration at every step of the loop.\n",
    "\n",
    "By default, `range()` starts counting from 0. Starting to count from 0 is common throughout computer science."
   ]
  },
  {
   "cell_type": "code",
   "execution_count": 7,
   "metadata": {},
   "outputs": [
    {
     "name": "stdout",
     "output_type": "stream",
     "text": [
      "0\n",
      "1\n",
      "2\n",
      "3\n",
      "4\n"
     ]
    }
   ],
   "source": [
    "for i in range(5):\n",
    "    print(i)"
   ]
  },
  {
   "cell_type": "markdown",
   "metadata": {},
   "source": [
    "A second for loop example:"
   ]
  },
  {
   "cell_type": "code",
   "execution_count": 16,
   "metadata": {},
   "outputs": [
    {
     "name": "stdout",
     "output_type": "stream",
     "text": [
      "0 is a multiple of 17.\n",
      "17 is a multiple of 17.\n",
      "34 is a multiple of 17.\n",
      "51 is a multiple of 17.\n",
      "68 is a multiple of 17.\n",
      "85 is a multiple of 17.\n"
     ]
    }
   ],
   "source": [
    "num = 17\n",
    "for i in range(100):\n",
    "    if i % num == 0:\n",
    "        print(\"{} is a multiple of {}.\".format(i, num))"
   ]
  },
  {
   "cell_type": "markdown",
   "metadata": {},
   "source": [
    "`range()` is more flexible in its usage. It can be called in three ways:\n",
    "\n",
    "1) `range(stop)`\n",
    "    - iterate over values from 0 to `stop`-1\n",
    "2) `range(start, stop)`\n",
    "    - iterate over values from `start` to `stop`-1\n",
    "3) `range(start, stop, step)`\n",
    "    - iterate over values from `start` to `stop`-1 in increments of `step`\n",
    "\n",
    "We could rewrite the previous for loop as follows:"
   ]
  },
  {
   "cell_type": "markdown",
   "metadata": {},
   "source": [
    "## Practice"
   ]
  },
  {
   "cell_type": "markdown",
   "metadata": {},
   "source": [
    "### Stepping over a range\n",
    "\n",
    "Rewrite the previous loop using `range(start, stop, step)`:"
   ]
  },
  {
   "cell_type": "code",
   "execution_count": 26,
   "metadata": {},
   "outputs": [
    {
     "name": "stdout",
     "output_type": "stream",
     "text": [
      "0 is divisible by 9\n",
      "34 is divisible by 9\n",
      "68 is divisible by 9\n"
     ]
    }
   ],
   "source": [
    "num== 17\n",
    "for i in range(0, 100, 34):\n",
    "    if i % 17 == 0:\n",
    "        print(\"{} is divisible by {}\".format(i, num))"
   ]
  },
  {
   "cell_type": "markdown",
   "metadata": {},
   "source": [
    "### Is Prime\n",
    "\n",
    "Implement a program which reads in a number from the user and iterates over all possible divisors which are greater than 2 and less than half of it. If it is divisible by any of them, output that it is composite. Else, output that it is prime."
   ]
  },
  {
   "cell_type": "code",
   "execution_count": 41,
   "metadata": {},
   "outputs": [
    {
     "name": "stdout",
     "output_type": "stream",
     "text": [
      "6 is composite.\n"
     ]
    }
   ],
   "source": [
    "num1 = 2\n",
    "num2 = int(input(\"your number to check\"))\n",
    "\n",
    "num3 = range(2, int(num2/2), 1)\n",
    "for i in num3:\n",
    "    if num2 % i == 0:\n",
    "        print(\"{} is composite.\".format(num2))\n",
    "        break\n",
    "    else:\n",
    "        print(\"{} is prime.\".format(num2))"
   ]
  },
  {
   "cell_type": "markdown",
   "metadata": {},
   "source": [
    "### Input Verification\n",
    "\n",
    "In an earlier practice problem you implemented the following menu for the user:\n",
    "\n",
    "The user may choose option:\n",
    "- \"1\" to attack\n",
    "- \"2\" to take a potion\n",
    "- \"3\" to flee. \n",
    "\n",
    "Previously, you output \"Invalid choice, game over!\" if the user did not enter valid input.\n",
    "\n",
    "Now, implement a program that repeatedly prompts the user for their choice until they enter a valid choice. Once they enter a valid choice, output the action they have chose."
   ]
  },
  {
   "cell_type": "code",
   "execution_count": 60,
   "metadata": {},
   "outputs": [
    {
     "name": "stdout",
     "output_type": "stream",
     "text": [
      "invalid choice, game over!\n",
      "invalid choice, game over!\n",
      "invalid choice, game over!\n",
      "attack\n"
     ]
    }
   ],
   "source": [
    "\n",
    "while True:\n",
    "    value = int(input(\"value\"))\n",
    "    if(value == 1):\n",
    "        print(\"attack\")\n",
    "        break\n",
    "    elif(value == 2):\n",
    "        print(\"take a position\")\n",
    "        break\n",
    "    elif(value == 3):\n",
    "        print(\"flee\")\n",
    "        break\n",
    "    else:\n",
    "        print(\"invalid choice, game over!\")\n",
    "    "
   ]
  }
 ],
 "metadata": {
  "kernelspec": {
   "display_name": "Python 3.9.6 64-bit",
   "language": "python",
   "name": "python3"
  },
  "language_info": {
   "codemirror_mode": {
    "name": "ipython",
    "version": 3
   },
   "file_extension": ".py",
   "mimetype": "text/x-python",
   "name": "python",
   "nbconvert_exporter": "python",
   "pygments_lexer": "ipython3",
   "version": "3.11.4"
  },
  "orig_nbformat": 4,
  "vscode": {
   "interpreter": {
    "hash": "aee8b7b246df8f9039afb4144a1f6fd8d2ca17a180786b69acc140d282b71a49"
   }
  }
 },
 "nbformat": 4,
 "nbformat_minor": 2
}
