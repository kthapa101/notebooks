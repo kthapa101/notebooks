{
 "cells": [
  {
   "cell_type": "markdown",
   "metadata": {},
   "source": [
    "# Conditionals\n",
    "\n",
    "**Conditionals**, or `if-else` statements allow us to execute one set of instructions if one condition is `True` and another set otherwise.\n",
    "\n",
    "In addition to our standard mathematical operators, we also have boolean operators that allow us to determine if a condition is `True` or `False`\n",
    "\n",
    "`<`, `>`, `<=`, `>=`, `==`, `!=`, `and`, `or`, `not`"
   ]
  },
  {
   "cell_type": "code",
   "execution_count": 28,
   "metadata": {},
   "outputs": [
    {
     "name": "stdout",
     "output_type": "stream",
     "text": [
      "8 is positive.\n"
     ]
    }
   ],
   "source": [
    "num = int(input(\"Enter an integer: \"))\n",
    "\n",
    "if num > 0:\n",
    "    print(\"{} is positive.\".format(num))\n",
    "elif num < 0:\n",
    "    print(\"{} is negative.\".format(num))\n",
    "else:\n",
    "    print(\"{} is neither positive nor negative.\".format(num))\n",
    "\n",
    "\n",
    "a = int(input(\"value \"))\n",
    "\n",
    "if a > 8:\n",
    "    print(\"{} is awesome.\".format(a))\n",
    "elif a < 8:\n",
    "    print(\"{} is not awesome\".format(a))"
   ]
  },
  {
   "cell_type": "markdown",
   "metadata": {},
   "source": [
    "With that example, here are a couple of notes:\n",
    "\n",
    "- We say that `if-elif-else` statements are made of **blocks**.\n",
    "\n",
    "- Each of the blocks is mutually exclusive. That is, if the `if` block executes, neither of the other two will. The same is true for each.\n",
    "- The only block that is required is the `if` block. \n",
    "- There can be multiple `elif` blocks. \n",
    "- There can only be one `else` block. If it exists, it must be the last block. \n",
    "- All instructions that belong to a block must be indented to the same level.\n"
   ]
  },
  {
   "cell_type": "markdown",
   "metadata": {},
   "source": [
    "The above example is relatively basic, but we can use logical operators to test for more complicated conditions."
   ]
  },
  {
   "cell_type": "code",
   "execution_count": 31,
   "metadata": {},
   "outputs": [
    {
     "name": "stdout",
     "output_type": "stream",
     "text": [
      "-6 is divisible by 6\n"
     ]
    }
   ],
   "source": [
    "num = int(input(\"Enter an integer: \"))\n",
    "\n",
    "if num % 2 == 0 and num % 3 == 0:\n",
    "    print(\"{} is divisible by 6\".format(num))\n",
    "\n",
    "if (num >= 0 and num <= 100) or (num > 0 and num % 2 == 0):\n",
    "    print(\"{} is either in the range [0,100] or {} is a positive even number\".format(num, num))"
   ]
  },
  {
   "cell_type": "markdown",
   "metadata": {},
   "source": [
    "For what inputs does the program above result in no output being printed to the screen?"
   ]
  },
  {
   "cell_type": "markdown",
   "metadata": {},
   "source": [
    "## Practice"
   ]
  },
  {
   "cell_type": "markdown",
   "metadata": {},
   "source": [
    "### Divisibility\n",
    "\n",
    "Implement a program that reads in two **ints** and outputs whether the first is divisible by the second."
   ]
  },
  {
   "cell_type": "code",
   "execution_count": 33,
   "metadata": {},
   "outputs": [
    {
     "name": "stdout",
     "output_type": "stream",
     "text": [
      "6 is divisible by 2\n"
     ]
    }
   ],
   "source": [
    "num1 = int(input(\"value1\"))\n",
    "num2 = int(input(\"value2\"))\n",
    "\n",
    "if(num1 % num2 == 0):\n",
    "    print(\"{} is divisible by {}\".format(num1,num2))\n",
    "else:\n",
    "    print(\"{} is not divisible by {}\".format(num1, num2))"
   ]
  },
  {
   "cell_type": "markdown",
   "metadata": {},
   "source": [
    "### String contains\n",
    "\n",
    "Implement a program that reads in two **strings** and outputs whether the first contains the second. \n",
    "\n",
    "*Hint: Python provides an `in` operator.*\n",
    "\n",
    "For example, each of the following is contained in `\"racecar\"`\"\n",
    "- \"race\"\n",
    "- \"car\"\n",
    "- \"cec\"\n",
    "- \"e\""
   ]
  },
  {
   "cell_type": "code",
   "execution_count": 36,
   "metadata": {},
   "outputs": [
    {
     "data": {
      "text/plain": [
       "False"
      ]
     },
     "execution_count": 36,
     "metadata": {},
     "output_type": "execute_result"
    }
   ],
   "source": [
    "word1 = input(str(\"word1\"))\n",
    "word2 = input(str(\"word2\"))\n",
    "\n",
    "word1 in word2"
   ]
  },
  {
   "cell_type": "markdown",
   "metadata": {},
   "source": [
    "### User Menu\n",
    "\n",
    "Suppose you are implementing a game a where you need to present a menu to the user. \n",
    "\n",
    "The user may choose option:\n",
    "- \"1\" to attack\n",
    "- \"2\" to take a potion\n",
    "- \"3\" to flee. \n",
    "\n",
    "Implement a program which prompts the user for their choice and outputs a message stating which option they have chosen. If they did not enter a valid choice, output \"Invalid choice, game over!\""
   ]
  },
  {
   "cell_type": "code",
   "execution_count": 38,
   "metadata": {},
   "outputs": [
    {
     "name": "stdout",
     "output_type": "stream",
     "text": [
      "invalid choice, game over!\n"
     ]
    }
   ],
   "source": [
    "value = int(input(\"value\"))\n",
    "\n",
    "if(value == 1):\n",
    "    print(\"attack\")\n",
    "elif(value == 2):\n",
    "    print(\"take a position\")\n",
    "elif(value == 3):\n",
    "    print(\"flee\")\n",
    "else:\n",
    "    print(\"invalid choice, game over!\")\n"
   ]
  }
 ],
 "metadata": {
  "kernelspec": {
   "display_name": "Python 3.9.6 64-bit",
   "language": "python",
   "name": "python3"
  },
  "language_info": {
   "codemirror_mode": {
    "name": "ipython",
    "version": 3
   },
   "file_extension": ".py",
   "mimetype": "text/x-python",
   "name": "python",
   "nbconvert_exporter": "python",
   "pygments_lexer": "ipython3",
   "version": "3.11.4"
  },
  "orig_nbformat": 4,
  "vscode": {
   "interpreter": {
    "hash": "aee8b7b246df8f9039afb4144a1f6fd8d2ca17a180786b69acc140d282b71a49"
   }
  }
 },
 "nbformat": 4,
 "nbformat_minor": 2
}
