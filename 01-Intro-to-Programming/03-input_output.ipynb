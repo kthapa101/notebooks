{
 "cells": [
  {
   "cell_type": "markdown",
   "metadata": {},
   "source": [
    "# Input\n",
    "\n",
    "We've already seen that we can read input using the `input()` function. \n",
    "\n",
    "We'll see how to write our own functions soon, but using functions is simple.\n",
    "\n",
    "A function takes input within its parentheses and returns output.\n",
    "\n",
    "In `input()`'s case, it takes in a string representing a prompt to the user and returns a string containing the user's input."
   ]
  },
  {
   "cell_type": "code",
   "execution_count": 1,
   "metadata": {},
   "outputs": [],
   "source": [
    "user_input = input(\"enter some input\")\n",
    "print(user_input)"
   ]
  },
  {
   "cell_type": "markdown",
   "metadata": {},
   "source": [
    "It is useful to store the result of the `input()` function call in a variable so that we use it later.\n",
    "\n",
    "`input()` always returns a string. If we need a number, we must convert the return to the data type we need."
   ]
  },
  {
   "cell_type": "code",
   "execution_count": 2,
   "metadata": {},
   "outputs": [
    {
     "name": "stdout",
     "output_type": "stream",
     "text": [
      "9\n",
      "9.0\n"
     ]
    }
   ],
   "source": [
    "num = int(input(\"9 \"))\n",
    "print(num)\n",
    "\n",
    "pi = float(input(\"9\"))\n",
    "print(pi)"
   ]
  },
  {
   "cell_type": "markdown",
   "metadata": {},
   "source": [
    "## Output\n",
    "\n",
    "The `print()` function allows us to output messages to the screen.\n",
    "\n",
    "We've seen basic usage of it, for example:"
   ]
  },
  {
   "cell_type": "code",
   "execution_count": 3,
   "metadata": {},
   "outputs": [
    {
     "name": "stdout",
     "output_type": "stream",
     "text": [
      "PI is 3.14159265\n"
     ]
    }
   ],
   "source": [
    "pi = 3.14159265\n",
    "print(\"PI is \" + str(pi))"
   ]
  },
  {
   "cell_type": "markdown",
   "metadata": {},
   "source": [
    "### Using `.format()`: More Flexible and Controlled Output\n",
    "\n",
    "It can get cumbersome to build up messages in this way. We can build and format any message using `.format()`."
   ]
  },
  {
   "cell_type": "code",
   "execution_count": 4,
   "metadata": {},
   "outputs": [
    {
     "name": "stdout",
     "output_type": "stream",
     "text": [
      "29/10 is 2, remainder 9\n",
      "PI is 3.14159265\n",
      "PI is 3.14\n"
     ]
    }
   ],
   "source": [
    "num1 = 29\n",
    "num2 = 10\n",
    "quotient = num1//num2\n",
    "remainder = num1%num2\n",
    "print(\"{}/{} is {}, remainder {}\".format(num1, num2, quotient, remainder))\n",
    "# {} are placeholders which are filled in with the values from the variables\n",
    "# inside the parentheses of .format()\n",
    "\n",
    "pi = 3.14159265\n",
    "print(\"PI is {}\".format(pi))\n",
    "print(\"PI is {:.2f}\".format(pi)) # :.2f means print two decimals of this floating point number"
   ]
  },
  {
   "cell_type": "markdown",
   "metadata": {},
   "source": [
    "`.format()` has extensive capabilities. \n",
    "\n",
    "Here is a useful reference for it:\n",
    "\n",
    "https://www.w3schools.com/python/ref_string_format.asp"
   ]
  }
 ],
 "metadata": {
  "kernelspec": {
   "display_name": "Python 3.9.6 64-bit",
   "language": "python",
   "name": "python3"
  },
  "language_info": {
   "codemirror_mode": {
    "name": "ipython",
    "version": 3
   },
   "file_extension": ".py",
   "mimetype": "text/x-python",
   "name": "python",
   "nbconvert_exporter": "python",
   "pygments_lexer": "ipython3",
   "version": "3.11.4"
  },
  "orig_nbformat": 4,
  "vscode": {
   "interpreter": {
    "hash": "aee8b7b246df8f9039afb4144a1f6fd8d2ca17a180786b69acc140d282b71a49"
   }
  }
 },
 "nbformat": 4,
 "nbformat_minor": 2
}
