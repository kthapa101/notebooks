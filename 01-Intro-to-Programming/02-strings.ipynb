{
 "cells": [
  {
   "cell_type": "markdown",
   "metadata": {},
   "source": [
    "# Representing Text\n",
    "\n",
    "We refer to text in a program as a **string**. Text is a *string* of characters.\n",
    "\n",
    "## Syntax\n",
    "\n",
    "Strings can be denoted using either single or double quotes."
   ]
  },
  {
   "cell_type": "code",
   "execution_count": null,
   "metadata": {},
   "outputs": [],
   "source": [
    "string = \"racecar!\"\n",
    "reversed = '!racecar'"
   ]
  },
  {
   "cell_type": "markdown",
   "metadata": {},
   "source": [
    "## Special Characters\n",
    "\n",
    "As well as our regular characters, there is a set of special characters that can be stored in a string.\n",
    "\n",
    "Special characters allow strings to contains white space characters such as tabs and newlines, but also quotation marks as well. Special characters are delimited by a `/`.\n",
    "\n",
    "The Most Common Special Characters:\n",
    "\n",
    "- `\\n`: new line\n",
    "- `\\t`: tab\n",
    "- `\\\"`: double quote\n",
    "- `\\'`: single quote\n",
    "- `\\\\`: forward slash\n",
    "\n",
    "Since the back slash indicates the beginning of a special character, `\\\\` must be used to print a `'\\'`."
   ]
  },
  {
   "cell_type": "code",
   "execution_count": 1,
   "metadata": {},
   "outputs": [
    {
     "name": "stdout",
     "output_type": "stream",
     "text": [
      "\\\n",
      " |\n",
      " Captain Dathon said:\n",
      "\t\"Darmok and Jalad at Tanagra\"\n",
      " |\n",
      "/\n"
     ]
    }
   ],
   "source": [
    "print(\"\\\\\")\n",
    "print(\" |\")\n",
    "\n",
    "print(\" Captain Dathon said:\\n\\t\\\"Darmok and Jalad at Tanagra\\\"\")\n",
    "print(\" |\")\n",
    "print(\"/\")"
   ]
  },
  {
   "cell_type": "markdown",
   "metadata": {},
   "source": [
    "\n",
    "There is a lot of functionality built into Python for processing strings. The most important functionality is highlighted here."
   ]
  },
  {
   "cell_type": "markdown",
   "metadata": {},
   "source": [
    "## Indexing and Slicing\n",
    "\n",
    "As a string is just a string of characters, we can select and access individual characters by specifying their location, known as an **index**. Indices start counting from `0`. That is, the first character is at index `0`.\n"
   ]
  },
  {
   "cell_type": "code",
   "execution_count": 6,
   "metadata": {},
   "outputs": [],
   "source": [
    "string = \"racecar!\"\n",
    "num_chars = len(string) # get the length of the string\n",
    "\n",
    "first_character = string[0]\n",
    "print(first_character)\n",
    "\n",
    "second_character = string[1]\n",
    "print(second_character)\n",
    "\n",
    "last_character = string[num_chars-1]\n",
    "print(last_character)"
   ]
  },
  {
   "cell_type": "markdown",
   "metadata": {},
   "source": [
    "We use the square bracket notation to specify the index of the character to access.\n",
    "\n",
    "Using string slicing, it is also possible to select substrings of a string.\n",
    "\n",
    "Inside the square brackets, you can specify the beginning and end of the substring to extract.\n",
    "\n",
    "Examples:"
   ]
  },
  {
   "cell_type": "code",
   "execution_count": 4,
   "metadata": {},
   "outputs": [],
   "source": [
    "string = \"racecar!\"\n",
    "# Extract characters 0-3, the ending index is not inclusive\n",
    "part1 = string[0:4] # What is stored in this variable?\n",
    "# Extract characters 4-6\n",
    "part2 = string[4:7] # and this one?\n",
    "\n",
    "print(part1)\n",
    "print(part2)\n"
   ]
  },
  {
   "cell_type": "code",
   "execution_count": 5,
   "metadata": {},
   "outputs": [],
   "source": [
    "string = \"racecar!\"\n",
    "# Shorthand, omitting starting or ending position will default to\n",
    "# starting from the beginning or going to the end respectively\n",
    "part1 = string[:4]\n",
    "part2 = string[4:] \n",
    "\n",
    "print(part1)\n",
    "print(part2)"
   ]
  },
  {
   "cell_type": "markdown",
   "metadata": {},
   "source": [
    "This only scratches the surface. Python has powerful string processing features. Here is a simple example: "
   ]
  },
  {
   "cell_type": "code",
   "execution_count": 1,
   "metadata": {},
   "outputs": [
    {
     "name": "stdout",
     "output_type": "stream",
     "text": [
      "Race Car!\n"
     ]
    }
   ],
   "source": [
    "part1 = \"race\"\n",
    "part2 = \"car!\"\n",
    "# Concatenate and print \"Race Car!\"\n",
    "print(part1.capitalize() + \" \" + part2.capitalize())\n"
   ]
  },
  {
   "cell_type": "markdown",
   "metadata": {},
   "source": [
    "Here is a list of useful string functions:\n",
    "\n",
    "https://www.w3schools.com/python/python_strings_methods.asp\n",
    "\n",
    "And here is the official reference on strings in python:\n",
    "\n",
    "https://docs.python.org/3/library/stdtypes.html#string-methods "
   ]
  }
 ],
 "metadata": {
  "kernelspec": {
   "display_name": "Python 3.9.6 64-bit",
   "language": "python",
   "name": "python3"
  },
  "language_info": {
   "codemirror_mode": {
    "name": "ipython",
    "version": 3
   },
   "file_extension": ".py",
   "mimetype": "text/x-python",
   "name": "python",
   "nbconvert_exporter": "python",
   "pygments_lexer": "ipython3",
   "version": "3.11.4"
  },
  "orig_nbformat": 4,
  "vscode": {
   "interpreter": {
    "hash": "aee8b7b246df8f9039afb4144a1f6fd8d2ca17a180786b69acc140d282b71a49"
   }
  }
 },
 "nbformat": 4,
 "nbformat_minor": 2
}
